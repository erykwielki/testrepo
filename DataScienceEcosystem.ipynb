{
 "cells": [
  {
   "cell_type": "markdown",
   "id": "734e6d83",
   "metadata": {},
   "source": [
    "# Data Science Tools and Ecosystem"
   ]
  },
  {
   "cell_type": "markdown",
   "id": "b5d16ce9",
   "metadata": {},
   "source": [
    "In this notebook, Data Science Tools and Ecosystem are summarized"
   ]
  },
  {
   "cell_type": "markdown",
   "id": "ad8ca7c0",
   "metadata": {},
   "source": [
    "**Objectives**\n",
    "- List popular languages used by Data Scientists\n",
    "- List commonly used libraries by Data Scientists\n",
    "- List some Data science tools\n",
    "- Execute basic arithmetic operations"
   ]
  },
  {
   "cell_type": "markdown",
   "id": "43059765",
   "metadata": {},
   "source": [
    "Some of the popular languages that Data Scientists use are:\n",
    "1. Python\n",
    "2. R\n",
    "3. SQL\n",
    "4. Scala\n",
    "5. C++\n",
    "6 Julia"
   ]
  },
  {
   "cell_type": "markdown",
   "id": "cca7f2f3",
   "metadata": {},
   "source": [
    "Some of the commonly used libraries used by Data Scientists include:\n",
    "1. Scikit-learn for statistical modeling\n",
    "2. TensorFlow for deep-learning models\n",
    "3. Apache Spark to process data using compute clusters"
   ]
  },
  {
   "cell_type": "markdown",
   "id": "e0ac38cc",
   "metadata": {},
   "source": [
    "| Data Science Tools |\n",
    "| ------------------ |\n",
    "| GitHub for Code Asset Management |\n",
    "| PostgreSQL for Data management |\n",
    "| Apache AirFlow for Data integration and transformation |\n",
    "| ... |"
   ]
  },
  {
   "cell_type": "markdown",
   "id": "a6afd72c",
   "metadata": {},
   "source": [
    "### Below are a few examples of evaluating arithmetic expressions in Python"
   ]
  },
  {
   "cell_type": "code",
   "execution_count": 2,
   "id": "26dca5be",
   "metadata": {},
   "outputs": [
    {
     "data": {
      "text/plain": [
       "17"
      ]
     },
     "execution_count": 2,
     "metadata": {},
     "output_type": "execute_result"
    }
   ],
   "source": [
    "# This is a simple arithmetic expression to multiply then add integers\n",
    "( 3 * 4 ) + 5"
   ]
  },
  {
   "cell_type": "code",
   "execution_count": 3,
   "id": "eb465c37",
   "metadata": {},
   "outputs": [
    {
     "name": "stdout",
     "output_type": "stream",
     "text": [
      "3.3333333333333335\n"
     ]
    }
   ],
   "source": [
    "# This will convert 200 minutes to hours by dividing by 60\n",
    "min = 200\n",
    "hour = min / 60\n",
    "print(hour)"
   ]
  },
  {
   "cell_type": "markdown",
   "id": "1a58101c",
   "metadata": {},
   "source": [
    "## Author\n",
    "Eric Nguyen"
   ]
  },
  {
   "cell_type": "code",
   "execution_count": null,
   "id": "fd4aacca",
   "metadata": {},
   "outputs": [],
   "source": []
  }
 ],
 "metadata": {
  "kernelspec": {
   "display_name": "Python 3 (ipykernel)",
   "language": "python",
   "name": "python3"
  },
  "language_info": {
   "codemirror_mode": {
    "name": "ipython",
    "version": 3
   },
   "file_extension": ".py",
   "mimetype": "text/x-python",
   "name": "python",
   "nbconvert_exporter": "python",
   "pygments_lexer": "ipython3",
   "version": "3.11.4"
  }
 },
 "nbformat": 4,
 "nbformat_minor": 5
}
